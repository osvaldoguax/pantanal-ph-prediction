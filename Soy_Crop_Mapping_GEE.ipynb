{
  "nbformat": 4,
  "nbformat_minor": 0,
  "metadata": {
    "colab": {
      "name": "Cópia de ee-api-colab-setup.ipynb",
      "provenance": [],
      "collapsed_sections": [],
      "toc_visible": true,
      "include_colab_link": true
    },
    "kernelspec": {
      "name": "python3",
      "display_name": "Python 3"
    }
  },
  "cells": [
    {
      "cell_type": "markdown",
      "metadata": {
        "id": "view-in-github",
        "colab_type": "text"
      },
      "source": [
        "<a href=\"https://colab.research.google.com/github/osvaldoguax/pantanal-ph-prediction/blob/master/C%C3%B3pia_de_ee_api_colab_setup.ipynb\" target=\"_parent\"><img src=\"https://colab.research.google.com/assets/colab-badge.svg\" alt=\"Open In Colab\"/></a>"
      ]
    },
    {
      "cell_type": "markdown",
      "metadata": {
        "id": "aV1xZ1CPi3Nw",
        "colab_type": "text"
      },
      "source": [
        "<table class=\"ee-notebook-buttons\" align=\"left\"><td>\n",
        "<a target=\"_blank\"  href=\"http://colab.research.google.com/github/google/earthengine-api/blob/master/python/examples/ipynb/ee-api-colab-setup.ipynb\">\n",
        "    <img src=\"https://www.tensorflow.org/images/colab_logo_32px.png\" /> Run in Google Colab</a>\n",
        "</td><td>\n",
        "<a target=\"_blank\"  href=\"https://github.com/google/earthengine-api/blob/master/python/examples/ipynb/ee-api-colab-setup.ipynb\"><img width=32px src=\"https://www.tensorflow.org/images/GitHub-Mark-32px.png\" /> View source on GitHub</a></td></table>"
      ]
    },
    {
      "cell_type": "markdown",
      "metadata": {
        "id": "LAZiVi13zTE7",
        "colab_type": "text"
      },
      "source": [
        "# Introduction: Mapping crops in Brazil using simulated Landsat images\n",
        "\n",
        "This notebook demonstrates how to map crops (soy, cotton and corn) in Brazil based on high spatial and temporal resolution simualted satellite images. The mapping is based on ESTARFM method, which is a temporal linear regression method allowing simulating Landsat bands based on adjacent MODIS images bands. The ESTARFM code was scripted based on the assumptions presented by Knauer et al (2016), see for more details: \n",
        "Knauer, K.; Gessner, U.; Fensholt, R.; Kuenzer, C. An ESTARFM Fusion Framework for the Generation of Large-Scale \n",
        "Time Series in Cloud-Prone and Heterogeneous Landscapes. Remote Sens. 2016, 8, 425."
      ]
    },
    {
      "cell_type": "markdown",
      "metadata": {
        "id": "s-dN42MTzg-w",
        "colab_type": "text"
      },
      "source": [
        "## Authenticate and initialize\n",
        "\n",
        "Run the 'import ee' and the `ee.Authenticate` functions to authenticate your access to Earth Engine servers and `ee.Initialize` to initialize it. Upon running the following cell you'll be asked to grant Earth Engine access to your Google account. Follow the instructions printed to the cell."
      ]
    },
    {
      "cell_type": "code",
      "metadata": {
        "id": "NMp9Ei9b0XXL",
        "colab_type": "code",
        "colab": {
          "base_uri": "https://localhost:8080/",
          "height": 173
        },
        "outputId": "01f0c14f-bd34-4a97-95df-3fac9036cec8"
      },
      "source": [
        "import ee\n",
        "\n",
        "# Trigger the authentication flow.\n",
        "ee.Authenticate()\n",
        "\n",
        "# Initialize the library.\n",
        "ee.Initialize()"
      ],
      "execution_count": null,
      "outputs": [
        {
          "output_type": "stream",
          "text": [
            "To authorize access needed by Earth Engine, open the following URL in a web browser and follow the instructions. If the web browser does not start automatically, please manually browse the URL below.\n",
            "\n",
            "    https://accounts.google.com/o/oauth2/auth?client_id=517222506229-vsmmajv00ul0bs7p89v5m89qs8eb9359.apps.googleusercontent.com&scope=https%3A%2F%2Fwww.googleapis.com%2Fauth%2Fearthengine+https%3A%2F%2Fwww.googleapis.com%2Fauth%2Fdevstorage.full_control&redirect_uri=urn%3Aietf%3Awg%3Aoauth%3A2.0%3Aoob&response_type=code&code_challenge=XrnfBDmkQWyPUnMtDv4vgQOWD35u7ImOLEnsG1aynJ0&code_challenge_method=S256\n",
            "\n",
            "The authorization workflow will generate a code, which you should paste in the box below. \n",
            "Enter verification code: 4/2AHjwdahj2E2QYs08TR_vDih2c-1r3Fh7KHkWLUNwswWv5pW1LYsLoc\n",
            "\n",
            "Successfully saved authorization token.\n"
          ],
          "name": "stdout"
        }
      ]
    },
    {
      "cell_type": "code",
      "metadata": {
        "id": "A-G4DV3d109o",
        "colab_type": "code",
        "colab": {
          "base_uri": "https://localhost:8080/",
          "height": 34
        },
        "outputId": "80c561a8-bf0c-4ce1-828c-5183676fb3dc"
      },
      "source": [
        "from google.colab import drive\n",
        "drive.mount('/content/drive')"
      ],
      "execution_count": null,
      "outputs": [
        {
          "output_type": "stream",
          "text": [
            "Drive already mounted at /content/drive; to attempt to forcibly remount, call drive.mount(\"/content/drive\", force_remount=True).\n"
          ],
          "name": "stdout"
        }
      ]
    },
    {
      "cell_type": "markdown",
      "metadata": {
        "id": "Ljo5dbLkfmVm",
        "colab_type": "text"
      },
      "source": [
        "### Interactive map\n",
        "\n",
        "The [`folium`](https://python-visualization.github.io/folium/)\n",
        "library can be used to display `ee.Image` objects on an interactive\n",
        "[Leaflet](https://leafletjs.com/) map. Folium has no default\n",
        "method for handling tiles from Earth Engine, so one must be defined\n",
        "and added to the `folium.Map` module before use.\n",
        "\n",
        "The following cell provides an example of adding a method for handing Earth Engine\n",
        "tiles and using it to display an elevation model to a Leaflet map."
      ]
    },
    {
      "cell_type": "code",
      "metadata": {
        "id": "Vh1Lq6Gty7GX",
        "colab_type": "code",
        "colab": {
          "base_uri": "https://localhost:8080/",
          "height": 34
        },
        "outputId": "4e10410f-c59a-4d63-eeda-a9806a7b5daa"
      },
      "source": [
        "import folium\n",
        "\n",
        "# Define the URL format used for Earth Engine generated map tiles.\n",
        "EE_TILES = 'https://earthengine.googleapis.com/map/{mapid}/{{z}}/{{x}}/{{y}}?token={token}'\n",
        "\n",
        "print('Folium version: ' + folium.__version__)\n",
        "\n",
        "#@title Mapdisplay: Display GEE objects using folium.\n",
        "def Mapdisplay(center, dicc, Tiles=\"OpensTreetMap\",zoom_start=10):\n",
        "    '''\n",
        "    :param center: Center of the map (Latitude and Longitude).\n",
        "    :param dicc: Earth Engine Geometries or Tiles dictionary\n",
        "    :param Tiles: Mapbox Bright,Mapbox Control Room,Stamen Terrain,Stamen Toner,stamenwatercolor,cartodbpositron.\n",
        "    :zoom_start: Initial zoom level for the map.\n",
        "    :return: A folium.Map object.\n",
        "    '''\n",
        "    mapViz = folium.Map(location=center,tiles=Tiles, zoom_start=zoom_start)\n",
        "    for k,v in dicc.items():\n",
        "      if ee.image.Image in [type(x) for x in v.values()]:\n",
        "        folium.TileLayer(\n",
        "            tiles = v[\"tile_fetcher\"].url_format,\n",
        "            attr  = 'Google Earth Engine',\n",
        "            overlay =True,\n",
        "            name  = k\n",
        "          ).add_to(mapViz)\n",
        "      else:\n",
        "        folium.GeoJson(\n",
        "        data = v,\n",
        "        name = k\n",
        "          ).add_to(mapViz)\n",
        "    mapViz.add_child(folium.LayerControl())\n",
        "    return mapViz"
      ],
      "execution_count": null,
      "outputs": [
        {
          "output_type": "stream",
          "text": [
            "Folium version: 0.8.3\n"
          ],
          "name": "stdout"
        }
      ]
    },
    {
      "cell_type": "markdown",
      "metadata": {
        "id": "8I_Fr0L5AFmu",
        "colab_type": "text"
      },
      "source": [
        "## Implementing editable variables\n",
        "\n",
        "Here are presented the variables that can be changed according to the user's interest. The study area, the temporal filter for satellite image collections, the mapping period of agricultural areas and the year of the MapBiomas Land Use Land Cover (LULC) map can be modified."
      ]
    },
    {
      "cell_type": "code",
      "metadata": {
        "id": "QaAltYsIuocT",
        "colab_type": "code",
        "colab": {}
      },
      "source": [
        "#Study area. Subset of a small region in Bahia state\n",
        "polygon = ee.Geometry.Polygon(\n",
        "        [[[-46.333915055332604, -12.467720172610312],\n",
        "          [-46.333915055332604, -13.115892713759077],\n",
        "          [-45.040274918613854, -13.115892713759077],\n",
        "          [-45.040274918613854, -12.467720172610312]]]);\n",
        "time ='system:time_start'\n",
        "\n",
        "#Temporal winwow defined to filter Landsat and MODIS collection (It is necessary to keet this date as it is to take into account the entire Landsat 8 collection)\n",
        "compositestart = ee.Date('2014-01-01');\n",
        "compositeend = ee.Date('2020-12-31');\n",
        "\n",
        "#Convert initial and final dates to milliseconds\n",
        "startMillis = compositestart.millis();\n",
        "endMillis = compositeend.millis();\n",
        "\n",
        "#Data range for crop mapping\n",
        "crop_initial = ee.Date('2017-12-15');#initial date to map croplands (first day of the year of interest)\n",
        "crop_final = ee.Date('2018-10-31');#final date to map croplands (first day of the year of interest)\n",
        "seeding_season = ee.Filter.calendarRange(12, 2, 'month')\n",
        "resting_season = ee.Filter.calendarRange(8, 9, 'month')\n",
        "labeled_data = ee.Image('projects/mapbiomas-workspace/public/collection4_1/mapbiomas_collection41_integration_v1').toUint8().clip(polygon).select(['classification_2018'])#Ground truth data used to classify the origibal and simulated Landsat data\n",
        "CEI_threshold = [170];#Threshold used to filter the data"
      ],
      "execution_count": null,
      "outputs": []
    },
    {
      "cell_type": "markdown",
      "metadata": {
        "id": "bBSNlpM0PsTP",
        "colab_type": "text"
      },
      "source": [
        "## Landsat cloud mask \n",
        "\n",
        "Cloud mask to remove clouds and cloud shadows in reflectance images at the top of the atmosphere"
      ]
    },
    {
      "cell_type": "code",
      "metadata": {
        "id": "bwg_lEJOP3k_",
        "colab_type": "code",
        "colab": {}
      },
      "source": [
        "def getQABits(image, start, end, mascara): # Compute the bits we need to extract.\n",
        "    pattern = 0\n",
        "    for i in range(start,end+1):\n",
        "        pattern += 2**i\n",
        "    return image.select([0], [mascara]).bitwiseAnd(pattern).rightShift(start) \n",
        "\n",
        "#A function to mask out cloudy pixels.\n",
        "def maskQuality(image):\n",
        "    QA = image.select('BQA')\n",
        "    sombra = getQABits(QA,7,8,'cloud_shadow')\n",
        "    nubes = getQABits(QA,4,4,'cloud')\n",
        "    cirrus_detected = getQABits(QA,11,12,'cirrus_detected')\n",
        "    return image.updateMask(sombra.eq(1)).updateMask(nubes.neq(1).updateMask(cirrus_detected.gt(0))) \n",
        "\n",
        "# Load the Landsat 8 image collection, filter to the area of interest and acquisition period, cloud masking\n",
        "collection = ee.ImageCollection('LANDSAT/LC08/C01/T1_TOA').filterDate(compositestart, compositeend).filterBounds(polygon).map(maskQuality)\n",
        "\n",
        "# Compute the median in each band, each pixel.\n",
        "# Band names are B1_median, B2_median, etc.\n",
        "# Median Landsat collection for visualization\n",
        "median = collection.filterDate(crop_initial,crop_final).reduce(ee.Reducer.median()).clip(polygon)\n",
        "\n",
        "# The output is an Image.  Add it to the map.\n",
        "vis_param = {'bands': ['B7_median', 'B5_median', 'B4_median'],\n",
        "             'min': 0.03,\n",
        "             'max': 0.6}\n",
        "\n",
        "median_tk = median.getMapId(vis_param)\n",
        "\n",
        "# Load an image collection, filtered so it's not too much data.\n",
        "collection_cloud = ee.ImageCollection('LANDSAT/LC08/C01/T1_TOA')\\\n",
        "               .filterDate(crop_initial, crop_final).filterBounds(polygon)\n",
        "median_cloud = collection_cloud.reduce(ee.Reducer.median()).clip(polygon)\n",
        "median_tk_cloud = median_cloud.getMapId(vis_param)"
      ],
      "execution_count": null,
      "outputs": []
    },
    {
      "cell_type": "markdown",
      "metadata": {
        "id": "bMA-vnOHYvrB",
        "colab_type": "text"
      },
      "source": [
        "## Landsat 8 image cube: composition used for the ESTFARM simulation\n",
        "\n",
        "Final Landsat 8 image cube that will be used for simulation. In this code the NDVI band is created and the images are converted to intergers"
      ]
    },
    {
      "cell_type": "code",
      "metadata": {
        "id": "01-9TqtEwggU",
        "colab_type": "code",
        "colab": {}
      },
      "source": [
        "ls0 = collection.select(['B2', 'B4', 'B5', 'B7'], ['ls_B1', 'ls_B3', 'ls_B4', 'ls_B7'])\n",
        "\n",
        "band_ls = ee.Image(ls0.first()).select('ls_B7')\n",
        "proj_ls = band_ls.projection().getInfo()\n",
        "crs_ls = proj_ls['crs']\n",
        "\n",
        "time ='system:time_start'\n",
        "\n",
        "ls1 = ls0.map(lambda image:\n",
        "      image.set('count', image.bandNames().length())\n",
        "      ).filter(ee.Filter.eq('count', 4)).map(lambda m:\n",
        "      m.addBands(m.normalizedDifference(['ls_B4', 'ls_B3']).rename('ls_NDVI'))).map(lambda m:\n",
        "      m.reproject(crs=crs_ls, scale = 30).resample('bicubic').reproject(crs=crs_ls, scale = 100).multiply(10000).toUint16().copyProperties(m,[time]));"
      ],
      "execution_count": null,
      "outputs": []
    },
    {
      "cell_type": "markdown",
      "metadata": {
        "id": "64fmv3goYSj_",
        "colab_type": "text"
      },
      "source": [
        "## MODIS 500m image cube: composition used for the ESTFARM simulation\n",
        "\n",
        "Prepare the collection and resample to 100m to be able to make the simulation based on MODIS data"
      ]
    },
    {
      "cell_type": "code",
      "metadata": {
        "id": "05GFSI8aWGjH",
        "colab_type": "code",
        "colab": {}
      },
      "source": [
        "#MODIS surface reflectance\n",
        "def getQABits(image, start, end, mascara):\n",
        "    pattern = 0\n",
        "    for i in range(start,end+1):\n",
        "        pattern += 2**i\n",
        "    return image.select([0], [mascara]).bitwiseAnd(pattern).rightShift(start)\n",
        "\n",
        "#A function to mask out cloudy pixels.\n",
        "def maskQuality(image):\n",
        "    QA = image.select('SummaryQA')\n",
        "    internalQuality = getQABits(QA,0, 1, 'internal_quality_flag')\n",
        "    return image.updateMask(internalQuality.lt(2))\n",
        "\n",
        "#Load MODIS Collection\n",
        "modsr = ee.ImageCollection('MODIS/006/MOD13A1').map(maskQuality).filterDate(startMillis,endMillis).filterBounds(polygon)\n",
        "\n",
        "#Select the first MODIS image to look up the projection\n",
        "band_proj = ee.Image(modsr.first()).select('sur_refl_b07')\n",
        "proj = band_proj.projection().getInfo()\n",
        "crs = proj['crs']\n",
        "\n",
        "#MODIS collection for simulation\n",
        "MODIS = modsr.map(lambda img : img.select(['sur_refl_b01', 'sur_refl_b02', 'sur_refl_b03', 'sur_refl_b07', 'NDVI'], ['B3_mod', 'B4_mod', 'B1_mod', 'B7_mod', 'NDVI_mod'])\n",
        ".reproject(crs=crs, scale=500).resample('bicubic').reproject(crs=crs, scale=100)\n",
        ".copyProperties(img,[time])).filterDate(compositestart, compositeend).filterBounds(polygon);"
      ],
      "execution_count": null,
      "outputs": []
    },
    {
      "cell_type": "markdown",
      "metadata": {
        "id": "nHA24j8tYomB",
        "colab_type": "text"
      },
      "source": [
        "## Adding the created composition to the map: Landsat and MODIS\n",
        "\n",
        "Declaration of variables to present the image compositions that will be used for the simulation"
      ]
    },
    {
      "cell_type": "code",
      "metadata": {
        "id": "SS6g8K5vi5Ga",
        "colab_type": "code",
        "colab": {
          "base_uri": "https://localhost:8080/",
          "height": 915
        },
        "outputId": "07d225f1-c49d-477a-e03c-94b8ab50f45a"
      },
      "source": [
        "#Median MODIS for visualization\n",
        "median_modis = MODIS.filterDate(crop_initial,crop_final).reduce(ee.Reducer.median()).clip(polygon)\n",
        "\n",
        "#The output is an Image.  Add it to the map.\n",
        "vis_param_m = {'bands': ['B7_mod_median', 'B4_mod_median', 'B3_mod_median'],\n",
        "             'min': 300,\n",
        "             'max': 6000}\n",
        "\n",
        "median_modis_tk = median_modis.getMapId(vis_param_m)\n",
        "\n",
        "center = [-12.7759,-45.694]\n",
        "Mapdisplay(center,{'MODIS':median_modis_tk, 'Landsat 8 sem nuvem':median_tk, 'Landsat 8 com nuvem':median_tk_cloud},zoom_start=11)"
      ],
      "execution_count": null,
      "outputs": [
        {
          "output_type": "execute_result",
          "data": {
            "text/html": [
              "<div style=\"width:100%;\"><div style=\"position:relative;width:100%;height:0;padding-bottom:60%;\"><span style=\"color:#565656\">Make this Notebook Trusted to load map: File -> Trust Notebook</span><iframe src=\"about:blank\" style=\"position:absolute;width:100%;height:100%;left:0;top:0;border:none !important;\" data-html=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 onload=\"this.contentDocument.open();this.contentDocument.write(atob(this.getAttribute('data-html')));this.contentDocument.close();\" allowfullscreen webkitallowfullscreen mozallowfullscreen></iframe></div></div>"
            ],
            "text/plain": [
              "<folium.folium.Map at 0x7f7cf1102320>"
            ]
          },
          "metadata": {
            "tags": []
          },
          "execution_count": 257
        }
      ]
    },
    {
      "cell_type": "markdown",
      "metadata": {
        "id": "3mI3d-Iua4zu",
        "colab_type": "text"
      },
      "source": [
        "# Creating the ESTARFM filter parameters to simulated Landsat images based on MODIS data"
      ]
    },
    {
      "cell_type": "code",
      "metadata": {
        "id": "Iqwz_7BMa3aJ",
        "colab_type": "code",
        "colab": {}
      },
      "source": [
        "#The ESTARFM code was scripted based on the assumptions presented by Knauer et al (2016), see for more details: \n",
        "#Knauer, K.; Gessner, U.; Fensholt, R.; Kuenzer, C. An ESTARFM Fusion Framework for the Generation of Large-Scale \n",
        "#Time Series in Cloud-Prone and Heterogeneous Landscapes. Remote Sens. 2016, 8, 425.\n",
        "\n",
        "#Join Landsat and MODIS closest scenes for the ESTARFM regression\n",
        "#Raster Join\n",
        "\n",
        "# Define an allowable time difference: two days in milliseconds.\n",
        "twoDaysMillis = 24 * 24 * 60 * 60 * 1000 #We are using 24 days at left and 24 days at right. Any Landsat collection within this interval will be accepted to merge with MODIS\n",
        "\n",
        "# Create a time filter to define a match as overlapping timestamps.\n",
        "maxDiff = ee.Filter.Or(\n",
        "ee.Filter.maxDifference(\n",
        "    difference= twoDaysMillis,\n",
        "    leftField='system:time_start',\n",
        "    rightField= 'system:time_start'\n",
        "  ),\n",
        "ee.Filter.maxDifference(\n",
        "    difference=twoDaysMillis,\n",
        "    leftField='system:time_start',\n",
        "    rightField='system:time_start'\n",
        "  )\n",
        ")\n",
        "\n",
        "# Define the join.\n",
        "join=ee.Join.saveAll(\n",
        "  matchesKey='B',\n",
        "  ordering='system:time_start',\n",
        "  measureKey='timeDiff'\n",
        ")\n",
        "\n",
        "prior =ee.Filter.greaterThan(leftField=time,rightField=time);\n",
        "filter1 = ee.Filter.And(maxDiff, prior);\n",
        "post = ee.Filter.lessThan(leftField=time,rightField=time);\n",
        "filter2 = ee.Filter.And(maxDiff,post);\n",
        "filter = ee.Filter.Or(filter1,filter2);"
      ],
      "execution_count": null,
      "outputs": []
    },
    {
      "cell_type": "markdown",
      "metadata": {
        "id": "BVlOkyWkhmke",
        "colab_type": "text"
      },
      "source": [
        "## Here we apply the simulation for each Landsat/MODIS band"
      ]
    },
    {
      "cell_type": "markdown",
      "metadata": {
        "id": "5Y7Br-_ahu-f",
        "colab_type": "text"
      },
      "source": [
        "###NDVI band"
      ]
    },
    {
      "cell_type": "code",
      "metadata": {
        "id": "mOqroqFBjA4k",
        "colab_type": "code",
        "colab": {}
      },
      "source": [
        "#Applying joing between MODIS and Landsat \n",
        "lsmodis = ee.ImageCollection(join.apply(ls1,MODIS,filter)).map(lambda img:\n",
        "img.toShort().clip(polygon));\n",
        "\n",
        "#A function to mask out cloudy pixels.\n",
        "def NDVI_def(img):\n",
        "    maxmodis = ee.ImageCollection.fromImages(img.get('B')).select('NDVI_mod').max()\n",
        "    return maxmodis.addBands(ee.Image(1)).addBands(img.select('ls_NDVI')).select([0, 1, 2],['maxmodis','const1','ls_NDVI']).copyProperties(img,[time])\n",
        "NDVI = lsmodis.map(NDVI_def)\n",
        "\n",
        "coeffs_NDVI = NDVI.reduce(ee.Reducer.linearRegression(2,1)).select('coefficients')\n",
        "\n",
        "slope_NDVI = coeffs_NDVI.arrayGet([0,0])\n",
        "\n",
        "intercept_NDVI = coeffs_NDVI.arrayGet([1,0])\n",
        "\n",
        "def Fitted_NDVI_def(img):\n",
        "  fit1 = img.select(2).add(intercept_NDVI.add(img.select(0).multiply(slope_NDVI))).multiply(0.5)\n",
        "  fit2 = fit1.unmask(intercept_NDVI.add(img.select(0).multiply(slope_NDVI))).rename('fitted_NDVI')\n",
        "  return fit2.copyProperties(img,[time]).copyProperties(img,['system:index'])\n",
        "fitted_NDVI = NDVI.map(Fitted_NDVI_def)\n",
        "\n",
        "def fitted_NDVIf_def(img):\n",
        "  result = intercept_NDVI.add(img.select('NDVI_mod').multiply(slope_NDVI)).rename('30m_NDVI')\n",
        "  return result.copyProperties(img,[time]).copyProperties(img,['system:index'])\n",
        "fitted_NDVIf = MODIS.select('NDVI_mod').map(fitted_NDVIf_def)"
      ],
      "execution_count": null,
      "outputs": []
    },
    {
      "cell_type": "markdown",
      "metadata": {
        "id": "aStxt1Wzh2UD",
        "colab_type": "text"
      },
      "source": [
        "### Band 1 (Blue)"
      ]
    },
    {
      "cell_type": "code",
      "metadata": {
        "id": "yzUf347xh2hC",
        "colab_type": "code",
        "colab": {}
      },
      "source": [
        "#Applying joing between MODIS and Landsat \n",
        "lsmodis = ee.ImageCollection(join.apply(ls1,MODIS,filter)).map(lambda img:\n",
        "img.toShort().clip(polygon));\n",
        "\n",
        "#A function to mask out cloudy pixels.\n",
        "def B1_def(img):\n",
        "    maxmodis = ee.ImageCollection.fromImages(img.get('B')).select('B1_mod').max()\n",
        "    return maxmodis.addBands(ee.Image(1)).addBands(img.select('ls_B1')).select([0, 1, 2],['maxmodis','const1','ls_B1']).copyProperties(img,[time])\n",
        "B1 = lsmodis.map(B1_def)\n",
        "\n",
        "coeffs_B1 = B1.reduce(ee.Reducer.linearRegression(2,1)).select('coefficients')\n",
        "\n",
        "slope_B1 = coeffs_B1.arrayGet([0,0])\n",
        "\n",
        "intercept_B1 = coeffs_B1.arrayGet([1,0])\n",
        "\n",
        "def Fitted_B1_def(img):\n",
        "  fit1 = img.select(2).add(intercept_B1.add(img.select(0).multiply(slope_B1))).multiply(0.5)\n",
        "  fit2 = fit1.unmask(intercept_B1.add(img.select(0).multiply(slope_B1))).rename('fitted_B1')\n",
        "  return fit2.copyProperties(img,[time]).copyProperties(img,['system:index'])\n",
        "fitted_B1 = B1.map(Fitted_B1_def)\n",
        "\n",
        "def fitted_B1f_def(img):\n",
        "  result = intercept_B1.add(img.select('B1_mod').multiply(slope_B1)).rename('30m_B1')\n",
        "  return result.copyProperties(img,[time]).copyProperties(img,['system:index'])\n",
        "fitted_B1f = MODIS.select('B1_mod').map(fitted_B1f_def)"
      ],
      "execution_count": null,
      "outputs": []
    },
    {
      "cell_type": "markdown",
      "metadata": {
        "id": "jPsWgFjLjMNb",
        "colab_type": "text"
      },
      "source": [
        "### Band 3 (Red)"
      ]
    },
    {
      "cell_type": "code",
      "metadata": {
        "id": "F-Up9QcFMe6C",
        "colab_type": "code",
        "colab": {}
      },
      "source": [
        ""
      ],
      "execution_count": null,
      "outputs": []
    },
    {
      "cell_type": "code",
      "metadata": {
        "id": "A3GL3WipjL0u",
        "colab_type": "code",
        "colab": {}
      },
      "source": [
        "#Applying joing between MODIS and Landsat \n",
        "lsmodis = ee.ImageCollection(join.apply(ls1,MODIS,filter)).map(lambda img:\n",
        "img.toShort().clip(polygon));\n",
        "\n",
        "#A function to mask out cloudy pixels.\n",
        "def B3_def(img):\n",
        "    maxmodis = ee.ImageCollection.fromImages(img.get('B')).select('B3_mod').max()\n",
        "    return maxmodis.addBands(ee.Image(1)).addBands(img.select('ls_B3')).select([0, 1, 2],['maxmodis','const1','ls_B3']).copyProperties(img,[time])\n",
        "B3 = lsmodis.map(B3_def)\n",
        "\n",
        "coeffs_B3 = B3.reduce(ee.Reducer.linearRegression(2,1)).select('coefficients')\n",
        "\n",
        "slope_B3 = coeffs_B3.arrayGet([0,0])\n",
        "\n",
        "intercept_B3 = coeffs_B3.arrayGet([1,0])\n",
        "\n",
        "def Fitted_B3_def(img):\n",
        "  fit1 = img.select(2).add(intercept_B3.add(img.select(0).multiply(slope_B3))).multiply(0.5)\n",
        "  fit2 = fit1.unmask(intercept_B3.add(img.select(0).multiply(slope_B3))).rename('fitted_B3')\n",
        "  return fit2.copyProperties(img,[time]).copyProperties(img,['system:index'])\n",
        "fitted_B3 = B3.map(Fitted_B3_def)\n",
        "\n",
        "def fitted_B3f_def(img):\n",
        "  result = intercept_B3.add(img.select('B3_mod').multiply(slope_B3)).rename('30m_B3')\n",
        "  return result.copyProperties(img,[time]).copyProperties(img,['system:index'])\n",
        "fitted_B3f = MODIS.select('B3_mod').map(fitted_B3f_def)"
      ],
      "execution_count": null,
      "outputs": []
    },
    {
      "cell_type": "markdown",
      "metadata": {
        "id": "FjDBfVv1jnH8",
        "colab_type": "text"
      },
      "source": [
        "### Band 4 (NIR)"
      ]
    },
    {
      "cell_type": "code",
      "metadata": {
        "id": "G-S6MA_tjmhV",
        "colab_type": "code",
        "colab": {}
      },
      "source": [
        "#Applying joing between MODIS and Landsat \n",
        "lsmodis = ee.ImageCollection(join.apply(ls1,MODIS,filter)).map(lambda img:\n",
        "img.toShort().clip(polygon));\n",
        "\n",
        "#A function to mask out cloudy pixels.\n",
        "def B4_def(img):\n",
        "    maxmodis = ee.ImageCollection.fromImages(img.get('B')).select('B4_mod').max()\n",
        "    return maxmodis.addBands(ee.Image(1)).addBands(img.select('ls_B4')).select([0, 1, 2],['maxmodis','const1','ls_B4']).copyProperties(img,[time])\n",
        "B4 = lsmodis.map(B4_def)\n",
        "\n",
        "coeffs_B4 = B4.reduce(ee.Reducer.linearRegression(2,1)).select('coefficients')\n",
        "\n",
        "slope_B4 = coeffs_B4.arrayGet([0,0])\n",
        "\n",
        "intercept_B4 = coeffs_B4.arrayGet([1,0])\n",
        "\n",
        "def Fitted_B4_def(img):\n",
        "  fit1 = img.select(2).add(intercept_B4.add(img.select(0).multiply(slope_B4))).multiply(0.5)\n",
        "  fit2 = fit1.unmask(intercept_B4.add(img.select(0).multiply(slope_B4))).rename('fitted_B4')\n",
        "  return fit2.copyProperties(img,[time]).copyProperties(img,['system:index'])\n",
        "fitted_B4 = B4.map(Fitted_B4_def)\n",
        "\n",
        "def fitted_B4f_def(img):\n",
        "  result = intercept_B4.add(img.select('B4_mod').multiply(slope_B4)).rename('30m_B4')\n",
        "  return result.copyProperties(img,[time]).copyProperties(img,['system:index'])\n",
        "fitted_B4f = MODIS.select('B4_mod').map(fitted_B4f_def)"
      ],
      "execution_count": null,
      "outputs": []
    },
    {
      "cell_type": "markdown",
      "metadata": {
        "id": "dnBkxf8Sj-u6",
        "colab_type": "text"
      },
      "source": [
        "### Band 7 (SWIR)"
      ]
    },
    {
      "cell_type": "code",
      "metadata": {
        "id": "ffxKd98cj-co",
        "colab_type": "code",
        "colab": {}
      },
      "source": [
        "#Applying joing between MODIS and Landsat \n",
        "lsmodis = ee.ImageCollection(join.apply(ls1,MODIS,filter)).map(lambda img:\n",
        "img.toShort().clip(polygon));\n",
        "\n",
        "#A function to mask out cloudy pixels.\n",
        "def B7_def(img):\n",
        "    maxmodis = ee.ImageCollection.fromImages(img.get('B')).select('B7_mod').max()\n",
        "    return maxmodis.addBands(ee.Image(1)).addBands(img.select('ls_B7')).select([0, 1, 2],['maxmodis','const1','ls_B7']).copyProperties(img,[time])\n",
        "B7 = lsmodis.map(B7_def)\n",
        "\n",
        "coeffs_B7 = B7.reduce(ee.Reducer.linearRegression(2,1)).select('coefficients')\n",
        "\n",
        "slope_B7 = coeffs_B7.arrayGet([0,0])\n",
        "\n",
        "intercept_B7 = coeffs_B7.arrayGet([1,0])\n",
        "\n",
        "def Fitted_B7_def(img):\n",
        "  fit1 = img.select(2).add(intercept_B7.add(img.select(0).multiply(slope_B7))).multiply(0.5)\n",
        "  fit2 = fit1.unmask(intercept_B7.add(img.select(0).multiply(slope_B7))).rename('fitted_B7')\n",
        "  return fit2.copyProperties(img,[time]).copyProperties(img,['system:index'])\n",
        "fitted_B7 = B7.map(Fitted_B7_def)\n",
        "\n",
        "def fitted_B7f_def(img):\n",
        "  result = intercept_B7.add(img.select('B7_mod').multiply(slope_B7)).rename('30m_B7')\n",
        "  return result.copyProperties(img,[time]).copyProperties(img,['system:index'])\n",
        "fitted_B7f = MODIS.select('B7_mod').map(fitted_B7f_def)"
      ],
      "execution_count": null,
      "outputs": []
    },
    {
      "cell_type": "markdown",
      "metadata": {
        "id": "O8DIpRnnBBDX",
        "colab_type": "text"
      },
      "source": [
        "## Creating the Crop Enhaced Index band for simulated and origibal Landsat"
      ]
    },
    {
      "cell_type": "code",
      "metadata": {
        "id": "Ut4Y50jPA_le",
        "colab_type": "code",
        "colab": {}
      },
      "source": [
        "#--------------------------------------Building CEI (Crop Enhancement Index) index for fitted and original Landsat compositions---------------------------------------------------\n",
        "#CEI on fitted data\n",
        "max_Simu = fitted_NDVIf.filterDate(crop_initial,crop_final).filter(seeding_season).max().select('30m_NDVI');\n",
        "min_Simu = fitted_NDVIf.filterDate(crop_initial,crop_final).filter(resting_season).min().select('30m_NDVI');\n",
        "cei_2019_MOD = max_Simu.expression('1000 *(WET_max - DRY_min) / ((1000 + WET_max) + (1000 + DRY_min))', {\n",
        "\t\t\t'WET_max': max_Simu,\n",
        "\t\t\t'DRY_min': min_Simu,\n",
        "}).rename('CEI_FIT_2018').clip(polygon);\n",
        "\n",
        "#CEI on fitted data\n",
        "max_Landsat= ls1.filterDate(crop_initial,crop_final).filter(seeding_season).max().select('ls_NDVI');\n",
        "min_Landsat = ls1.filterDate(crop_initial,crop_final).filter(resting_season).min().select('ls_NDVI');\n",
        "cei_2019_LS = max_Landsat.expression('1000 *(WET_max - DRY_min) / ((1000 + WET_max) + (1000 + DRY_min))', {\n",
        "\t\t\t'WET_max': max_Landsat,\n",
        "\t\t\t'DRY_min': min_Landsat,\n",
        "}).rename('CEI_LS_2018').clip(polygon);"
      ],
      "execution_count": null,
      "outputs": []
    },
    {
      "cell_type": "markdown",
      "metadata": {
        "id": "_uV9XzL-kjAA",
        "colab_type": "text"
      },
      "source": [
        "## Merging simulated bands to create the Landsat/MODIS simulated image for classification\n",
        " \n",
        " This composition is the product for the crop (soy) classification based on simulated data\n"
      ]
    },
    {
      "cell_type": "code",
      "metadata": {
        "id": "1wH-Ph73kixe",
        "colab_type": "code",
        "colab": {}
      },
      "source": [
        "multi_simu = fitted_B7f.combine(fitted_B4f).combine(fitted_B3f).combine(fitted_B1f).combine(fitted_NDVIf).select(\n",
        "    ['30m_B7', '30m_B4', '30m_B3', '30m_B1', '30m_NDVI'], ['Fit_B7', 'Fit_B4', 'Fit_B3', 'Fit_B1', 'NDVI']\n",
        "    ).filterDate(crop_initial, crop_final).filter(seeding_season).reduce(ee.Reducer.median()).addBands(cei_2019_MOD)"
      ],
      "execution_count": null,
      "outputs": []
    },
    {
      "cell_type": "markdown",
      "metadata": {
        "id": "hVQaBsh8NQo1",
        "colab_type": "text"
      },
      "source": [
        "## Merging original Landsat bands to create the Landsat image for classification\n",
        "\n",
        " This composition is the product for the crop (soy) classification based on original Landsat data"
      ]
    },
    {
      "cell_type": "code",
      "metadata": {
        "id": "WTlcv5j_MtVf",
        "colab_type": "code",
        "colab": {}
      },
      "source": [
        "multi_original = ls1.filterDate(crop_initial, crop_final).filter(seeding_season).reduce(ee.Reducer.median()).addBands(cei_2019_LS).clip(polygon)"
      ],
      "execution_count": null,
      "outputs": []
    },
    {
      "cell_type": "markdown",
      "metadata": {
        "id": "W9ffPQd1f02b",
        "colab_type": "text"
      },
      "source": [
        "## View the final result of the Landsat simulation compared to the original Landsat composition\n",
        "\n",
        "Here we also included the labeled data by [MapBiomas](https://mapbiomas.org/). This data is the groud truth that can be used to verify the map quality and to classify the Landsat simulated and original data. The original GEE asset is: projects/mapbiomas-workspace/public/collection4_1/mapbiomas_collection41_integration_v1"
      ]
    },
    {
      "cell_type": "code",
      "metadata": {
        "id": "QkonJu1AlcpE",
        "colab_type": "code",
        "colab": {
          "base_uri": "https://localhost:8080/",
          "height": 915
        },
        "outputId": "9bf411ab-1d1e-4d27-804f-cb56b1c382e7"
      },
      "source": [
        "#The output is an Image.  Add it to the map.\n",
        "vis_param_multi = {'bands': ['Fit_B7_median', 'Fit_B4_median', 'Fit_B3_median'],\n",
        "             'min': 300,\n",
        "             'max': 4500}\n",
        "\n",
        "#The output is an Image.  Add it to the map.\n",
        "vis_param_original = {'bands': ['ls_B7_median', 'ls_B4_median', 'ls_B3_median'],\n",
        "             'min': 300,\n",
        "             'max': 6000}\n",
        "\n",
        "#The output is an Image.  Add it to the map.\n",
        "vis_param_labeled_data = {'palette': ['c0c0c0', 'cc6600'],\n",
        "             'min': 1,\n",
        "             'max': 2}\n",
        "\n",
        "labeled_soja = labeled_data.eq(19).remap([0, 1],[0, 2]) #select the soy category from MapBiomas\n",
        "labeled_no_soja = labeled_data.neq(19).remap([0, 1],[0, 1])  #select the non-soy categories\n",
        "\n",
        "#Sum maps\n",
        "soy_map = labeled_no_soja.add(labeled_soja)#sum data\n",
        "\n",
        "#Final labeled data for classification\n",
        "final_labeled_data = soy_map.updateMask(soy_map.gt(0)).clip(polygon).toByte();\n",
        "\n",
        "median_multi_tk = multi_simu.getMapId(vis_param_multi)\n",
        "median_original_tk = multi_original.getMapId(vis_param_original)\n",
        "labeled_data_tk = final_labeled_data.getMapId(vis_param_labeled_data)\n",
        "\n",
        "center = [-12.7759,-45.694]\n",
        "Mapdisplay(center,{'2017 soy area: Ground Truth': labeled_data_tk, 'Landsat 8 original':median_original_tk, 'Landsat 8 simulated':median_multi_tk},zoom_start=11)"
      ],
      "execution_count": null,
      "outputs": [
        {
          "output_type": "execute_result",
          "data": {
            "text/html": [
              "<div style=\"width:100%;\"><div style=\"position:relative;width:100%;height:0;padding-bottom:60%;\"><span style=\"color:#565656\">Make this Notebook Trusted to load map: File -> Trust Notebook</span><iframe src=\"about:blank\" style=\"position:absolute;width:100%;height:100%;left:0;top:0;border:none !important;\" data-html=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 onload=\"this.contentDocument.open();this.contentDocument.write(atob(this.getAttribute('data-html')));this.contentDocument.close();\" allowfullscreen webkitallowfullscreen mozallowfullscreen></iframe></div></div>"
            ],
            "text/plain": [
              "<folium.folium.Map at 0x7f7cf112aa20>"
            ]
          },
          "metadata": {
            "tags": []
          },
          "execution_count": 270
        }
      ]
    },
    {
      "cell_type": "markdown",
      "metadata": {
        "id": "YiyEQWlxgIOI",
        "colab_type": "text"
      },
      "source": [
        "# Cropland Random Forest classification\n",
        "\n",
        "The Classification is carried for the year of 2017. That's the date of the labeled data by Agrosatélite "
      ]
    },
    {
      "cell_type": "markdown",
      "metadata": {
        "id": "hkTvyG7__pIN",
        "colab_type": "text"
      },
      "source": [
        "##Classifying the simulated Landsat image based on MapBiomas ground truth"
      ]
    },
    {
      "cell_type": "code",
      "metadata": {
        "id": "F680VLIzk4Ib",
        "colab_type": "code",
        "colab": {}
      },
      "source": [
        "points = 1000;\n",
        "trees = 100;\n",
        "seeds = 0;\n",
        "\n",
        "training_simu = multi_simu.addBands(final_labeled_data).sample(\n",
        "  region=polygon,\n",
        "  numPixels=1000,\n",
        "  scale=100,\n",
        "  seed=0\n",
        ")\n",
        "\n",
        "bands_class_simu = ['Fit_B7_median', 'Fit_B4_median', 'Fit_B3_median', 'Fit_B1_median', 'NDVI_median', 'CEI_FIT_2018']\n",
        "\n",
        "classifier_simu = ee.Classifier.randomForest(trees, seeds).train(\n",
        "  features = training_simu, \n",
        "  classProperty = 'remapped',\n",
        "  inputProperties = bands_class_simu\n",
        ")\n",
        "\n",
        "#Classificar a imagem Sentinel com base em Random Forest.\n",
        "classified_simu = multi_simu.classify(classifier_simu);"
      ],
      "execution_count": null,
      "outputs": []
    },
    {
      "cell_type": "markdown",
      "metadata": {
        "id": "OtOtP4QmADsj",
        "colab_type": "text"
      },
      "source": [
        "##Classifying the original Landsat image based on MapBiomas ground truth"
      ]
    },
    {
      "cell_type": "code",
      "metadata": {
        "id": "rgGywzdb_-bz",
        "colab_type": "code",
        "colab": {}
      },
      "source": [
        "training_original = multi_original.addBands(final_labeled_data).sample(\n",
        "  region=polygon,\n",
        "  numPixels=1000,\n",
        "  scale=100,\n",
        "  seed=0\n",
        ")\n",
        "\n",
        "bands_class_original = ['ls_B7_median', 'ls_B4_median', 'ls_B3_median', 'ls_B1_median', 'ls_NDVI_median', 'CEI_LS_2018']\n",
        "\n",
        "classifier_original = ee.Classifier.randomForest(trees, seeds).train(\n",
        "  features = training_original, \n",
        "  classProperty = 'remapped',\n",
        "  inputProperties = bands_class_original\n",
        ")\n",
        "\n",
        "#Classificar a imagem Sentinel com base em Random Forest.\n",
        "classified_original = multi_original.classify(classifier_original);"
      ],
      "execution_count": null,
      "outputs": []
    },
    {
      "cell_type": "markdown",
      "metadata": {
        "id": "016j9KW2DlW-",
        "colab_type": "text"
      },
      "source": [
        "# Final map\n",
        "This example shows a subset of soy area classification comparing the classification of the simulated Landsat and the original Landsat. The original composition is clearly affected by cloud coverage.\n",
        "\n",
        "![image hilighting the final result: Example at west Bahia/Brazil](https://www.dropbox.com/s/yrptmm3fesbi4q3/Imagem1.png?raw=1)"
      ]
    },
    {
      "cell_type": "code",
      "metadata": {
        "id": "-uBeaa1JyUkI",
        "colab_type": "code",
        "colab": {
          "base_uri": "https://localhost:8080/",
          "height": 915
        },
        "outputId": "2974e4af-6da4-41cd-8957-81bc16e26833"
      },
      "source": [
        "#The output is an Image.  Add it to the map.\n",
        "vis_param_labeled_data = {'palette': ['c0c0c0', 'cc6600'],\n",
        "             'min': 1,\n",
        "             'max': 2}\n",
        "\n",
        "simu_classified_tk = classified_simu.getMapId(vis_param_labeled_data)\n",
        "original_classified_tk = classified_original.getMapId(vis_param_labeled_data)\n",
        "\n",
        "center = [-12.7759,-45.694]\n",
        "Mapdisplay(center,{'Simulated classified':simu_classified_tk,'Original classified': original_classified_tk, 'Ground Truth': labeled_data_tk},zoom_start=11)"
      ],
      "execution_count": null,
      "outputs": [
        {
          "output_type": "execute_result",
          "data": {
            "text/html": [
              "<div style=\"width:100%;\"><div style=\"position:relative;width:100%;height:0;padding-bottom:60%;\"><span style=\"color:#565656\">Make this Notebook Trusted to load map: File -> Trust Notebook</span><iframe src=\"about:blank\" style=\"position:absolute;width:100%;height:100%;left:0;top:0;border:none !important;\" data-html=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 onload=\"this.contentDocument.open();this.contentDocument.write(atob(this.getAttribute('data-html')));this.contentDocument.close();\" allowfullscreen webkitallowfullscreen mozallowfullscreen></iframe></div></div>"
            ],
            "text/plain": [
              "<folium.folium.Map at 0x7f7cf0ca65f8>"
            ]
          },
          "metadata": {
            "tags": []
          },
          "execution_count": 290
        }
      ]
    }
  ]
}
